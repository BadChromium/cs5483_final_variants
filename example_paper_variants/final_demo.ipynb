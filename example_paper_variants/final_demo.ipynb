{
 "cells": [
  {
   "cell_type": "markdown",
   "id": "235c5c84-bb3e-4cc4-ab5f-489e3d553b03",
   "metadata": {},
   "source": [
    "# FINAL EXAMINATION"
   ]
  },
  {
   "cell_type": "markdown",
   "id": "b1e1c993-e522-4f70-b319-74fd346db3d6",
   "metadata": {},
   "source": [
    "## Instruction"
   ]
  },
  {
   "cell_type": "markdown",
   "id": "d7bcf8f7-91b2-4769-af31-dfcb2c21c926",
   "metadata": {},
   "source": [
    "<div class=\"question\">\n",
    "\n",
    "<p class=\"questiontext\"><h3>CITY UNIVERSITY OF HONG KONG</h3>\n",
    "\n",
    "<hr>\n",
    "\n",
    "<table>\n",
    "<tr>\n",
    "<td>Course code & title</td><td>: CS5483 Data Warehousing and Data Mining</td>\n",
    "</tr>\n",
    "<tr>\n",
    "<td>Session</td><td>: Semester B 2022/23</td>\n",
    "</tr>\n",
    "<tr>\n",
    "<td>Time allowed</td><td>: Two hours</td>\n",
    "</tr>\n",
    "</table>\n",
    "\n",
    "<hr>\n",
    "\n",
    "<ul>\n",
    "<li>This is a <strong>computerized examination</strong> that requires <strong>internet access</strong>. </li>\n",
    "<li>There are <strong>NO printings</strong> of question papers or answer books.</li>\n",
    "</ul>\n",
    "\n",
    "<hr>\n",
    "\n",
    "<ul>\n",
    "<li>Answer <u>ALL</u> questions via the <u>Safe Exam Browser on your designated Lab PC</u>.</li>\n",
    "<li>For numerical answers that are not integer, they must be accurate at least up to <u>3 significant figures</u>. Equivalent <u>algebraic forms</u> without simplification are acceptable.</li>\n",
    "</ul>\n",
    "\n",
    "<hr>\n",
    "\n",
    "<p>This is a <strong>closed-book</strong> examination.</p>\n",
    "\n",
    "\n",
    "  <tr>\n",
    "    <td style=\"padding: 5px;\">\n",
    "Students are allowed to use the following materials/aids:\n",
    "        <ul>\n",
    "    <li>blank scratch papers;</li>\n",
    "<li>university approved calculators; and</li>\n",
    "<li>online python tutor: <a href=\"https://dive4dec.github.io/optlite/live.html\"target=\"_blank\">https://dive4dec.github.io/optlite/live.html</a></li>\n",
    "</ul>\n",
    "Materials/aids other than those stated above are not permitted. Students will be subject to disciplinary action if any unauthorized materials or aids are found on them.\n",
    "</td>\n",
    "  </tr>\n",
    "</p>\n",
    "</div>"
   ]
  },
  {
   "cell_type": "markdown",
   "id": "32454eae-99f4-40b8-b131-d9a8c0e42adc",
   "metadata": {},
   "source": [
    "## Different classification algorithms"
   ]
  },
  {
   "cell_type": "markdown",
   "id": "852c4e91-1984-4b04-81d6-b29f89052773",
   "metadata": {},
   "source": [
    "<style type=\"text/css\">\n",
    "        .dt {border: 1px solid black; border-spacing:0px;}\n",
    "        .dt .dt-box{border: 1px solid black;text-align:left;vertical-align:top;padding:10px;}\n",
    "        .dt .dt-tr{border-top: 1px solid black;border-right: 1px solid black;text-align:left;vertical-align:top;padding:5px;}\n",
    "        .dt .dt-br{border-bottom: 1px solid black;border-right: 1px solid black;text-align:left;vertical-align:top;padding:0px;}\n",
    "    </style>\n",
    "\n",
    "<p>Choose the classification algorithm associated with the description.</p>\n",
    "<table>\n",
    "        <thead>\n",
    "            <tr>\n",
    "              <th class=\"text-left head\"><p>Classification</p></th>\n",
    "              <th class=\"text-left head\"><p>Description</p></th>\n",
    "            </tr>\n",
    "        </thead>\n",
    "        <tbody>\n",
    "            <tr>\n",
    "              <td class=\"text-left\">\n",
    "              </td>\n",
    "            <td class=\"text-left\"><p>Decide whether a borrower will default on a loan by selecting the most frequent outcome observed in the borrower's credit history.</p></td>\n",
    "            </tr>\n",
    "            <tr>\n",
    "              <td class=\"text-left\">\n",
    "              </td>\n",
    "            <td class=\"text-left\"><p>To predict the success of a startup with a concise list of rules, obtain the rules sequentially by maximizing the coverage of uncovered examples.</p></td>\n",
    "            </tr>\n",
    "            <tr>\n",
    "              <td class=\"text-left\">\n",
    "              </td>\n",
    "            <td class=\"text-left\"><p>To accurately identify customers who are more likely to respond to promotions, build rules by adding conjuncts that favor high confidence in addition to large coverage.</p></td>\n",
    "            </tr>\n",
    "            <tr>\n",
    "              <td class=\"text-left\">\n",
    "              </td>\n",
    "            <td class=\"text-left\"><p>To predict crop yields, use the drop in Gini impurity to select splitting criteria on soil composition, climate conditions, and farming practices.</p></td>\n",
    "            </tr>\n",
    "            <tr>\n",
    "              <td class=\"text-left\">\n",
    "              </td>\n",
    "            <td class=\"text-left\"><p>Diagnose a patient using multi-way splits on symptoms categorized into severe, mild, moderate, light, and none.</p></td>\n",
    "            </tr>\n",
    "            <tr>\n",
    "              <td class=\"text-left\">\n",
    "              </td>\n",
    "            <td class=\"text-left\"><p>Predict the risk of default on a loan based on the credit history of the most similar borrower in the dataset.</p></td>\n",
    "            </tr>\n",
    "        </tbody>\n",
    "</table>"
   ]
  },
  {
   "cell_type": "markdown",
   "id": "79b31df4-d77b-45fa-9899-dbd709ba6712",
   "metadata": {},
   "source": [
    "## Ensemble methods"
   ]
  },
  {
   "cell_type": "markdown",
   "id": "41062221-0a57-4761-8019-3c4d96ff8bd3",
   "metadata": {},
   "source": [
    "<p>\n",
    "Indicates whether the following statements about ensemble methods are correct:\n",
    "</p>\n",
    "<table class=\"dt\">\n",
    "        <thead>\n",
    "            <tr>\n",
    "              <th class=\"dt-box\"><p>option</p></th>\n",
    "              <th class=\"dt-box\"><p>statement</p></th>\n",
    "            </tr>\n",
    "        </thead>\n",
    "        <tbody>\n",
    "            <tr>\n",
    "              <td class=\"dt-tr\">\n",
    "              </td>\n",
    "            <td class=\"dt-tr\"><p>Random forest uses decision tree induction algorithms to train the combination rule.</p></td>\n",
    "            </tr>\n",
    "            <tr>\n",
    "              <td class=\"dt-tr\">\n",
    "              </td>\n",
    "            <td class=\"dt-tr\"><p>Stacking uses multiple learning algorithms to train the combination rule.</p></td>\n",
    "            </tr>\n",
    "            <tr>\n",
    "              <td class=\"dt-tr\">\n",
    "              </td>\n",
    "            <td class=\"dt-tr\"><p>Voting allows different learning algorithms to be used to train different the combination rule.</p></td>\n",
    "            </tr>\n",
    "            <tr>\n",
    "              <td class=\"dt-tr\">\n",
    "              </td>\n",
    "            <td class=\"dt-tr\"><p>Random forest-RI uses random subsets of features to train the combination rule.</p></td>\n",
    "            </tr>\n",
    "            <tr>\n",
    "              <td class=\"dt-tr\">\n",
    "              </td>\n",
    "            <td class=\"dt-tr\"><p>Adaboost normally gives less amount of say to less accurate base classifiers.</p></td>\n",
    "            </tr>\n",
    "            <tr>\n",
    "              <td class=\"dt-tr\">\n",
    "              </td>\n",
    "            <td class=\"dt-tr\"><p>Adaboost gives more sampling weight to incorrectly classified examples.</p></td>\n",
    "            </tr>\n",
    "            <tr>\n",
    "              <td class=\"dt-tr\">\n",
    "              </td>\n",
    "            <td class=\"dt-tr\"><p>Bagging generates different datasets by sampling without replacement to increase diversity.</p></td>\n",
    "            </tr>\n",
    "            <tr>\n",
    "              <td class=\"dt-tr\">\n",
    "              </td>\n",
    "            <td class=\"dt-tr\"><p>Random forest-RC uses random linear combinations of features in addition to bagging to increase diversity.</p></td>\n",
    "            </tr>\n",
    "        </tbody>\n",
    "</table>\n",
    "</p>"
   ]
  },
  {
   "cell_type": "markdown",
   "id": "2a21691f-4e22-4ff8-bf87-abf33dc8ecab",
   "metadata": {},
   "source": [
    "## DBSCAN algorithm"
   ]
  },
  {
   "cell_type": "markdown",
   "id": "e1708e83-9b95-40dd-871f-6d6040132cc2",
   "metadata": {},
   "source": [
    "Give the DBSCAN algorithm by **reordering** the following steps.\n",
    "\n",
    ":::{note}\n",
    "To properly test your understanding, bodies of any loops/conditionals are not indented. You are also **not** required to mark the beginnings/endings of loops/conditionals.\n",
    ":::\n",
    "\n",
    "**Input**: Dataset $D:=\\{\\boldsymbol{p}_i\\}_{i=1}^n$ and parameters $(\\epsilon, \\operatorname{MinPts})$ for density-connectedness.\n",
    "\n",
    "**Output**: A partition of $D$ into clusters $C_1,\\dots,C_k$ and a set $N$ of noise points.\n",
    "\n",
    "1. Add $p$ to a new cluster $C_i$ starting from $i = 1$.\n",
    "2. If $p$ is a core-point:\n",
    "3. Add the remaining points to $N$.\n",
    "4. Repeatedly visit $p \\isin D$ not yet visited nor assigned a cluster:\n",
    "5. Add to $C_i$ all the points directly density-reachable from $p$ but bot yet assigned a cluster.\n",
    "6. Repeatedly find an unvisited core-point $q \\isin D$ via breadth-first search over points directly density-reachable from $p$:\n",
    "7. Add to $C_i$ all the points directly density-reachable from $q$ but not yes assigned a cluster."
   ]
  },
  {
   "cell_type": "markdown",
   "id": "4523a503-8535-4236-bccf-892c47598ca0",
   "metadata": {},
   "source": [
    "## Optics"
   ]
  },
  {
   "attachments": {},
   "cell_type": "markdown",
   "id": "ac0dc4f3-6fe9-4915-be6c-d74cdb2c1c4a",
   "metadata": {},
   "source": [
    "Drag the appropriate terms to the blanks.\n",
    ":::{note}\n",
    "Each term may be dragged to multiple blanks, and some terms may not be needed.\n",
    ":::\n",
    "\n",
    "Both DBSCAN and OPTICS are &nbsp;&nbsp;&nbsp;&nbsp;&nbsp;&nbsp;&nbsp;&nbsp;&nbsp;cluster methods. Similar to DBSCAN, OPTICS requires &nbsp;&nbsp;&nbsp;&nbsp;&nbsp;&nbsp;&nbsp;&nbsp;&nbsp;input parameters $\\epsilon$ and $\\operatorname{MinPts}$ as DBSCAN does. Unlike DBSCAN, OPTICS can find cluster of &nbsp;&nbsp;&nbsp;&nbsp;&nbsp;&nbsp;&nbsp;&nbsp;&nbsp;densities because of the following modifications:\n",
    "* Instead of simply checking whether a data point is a &nbsp;&nbsp;&nbsp;&nbsp;&nbsp;&nbsp;&nbsp;&nbsp;&nbsp;, OPTICS calculates the &nbsp;&nbsp;&nbsp;&nbsp;&nbsp;&nbsp;&nbsp;&nbsp;&nbsp;in addition to reflect the density of the region containing the data point.\n",
    "* Instead of growing the cluster to any &nbsp;&nbsp;&nbsp;&nbsp;&nbsp;&nbsp;&nbsp;&nbsp;&nbsp;, it visits points with &nbsp;&nbsp;&nbsp;&nbsp;&nbsp;&nbsp;&nbsp;&nbsp;&nbsp;, &nbsp;&nbsp;&nbsp;&nbsp;&nbsp;&nbsp;&nbsp;&nbsp;&nbsp;first.\n",
    "\n",
    "More precisely, given a data point $p$ is a &nbsp;&nbsp;&nbsp;&nbsp;&nbsp;&nbsp;&nbsp;&nbsp;&nbsp;, it calculates &nbsp;&nbsp;&nbsp;&nbsp;&nbsp;&nbsp;&nbsp;&nbsp;&nbsp;$\\epsilon' \\leq \\epsilon$ such that $\\epsilon'$-neighborhood contains &nbsp;&nbsp;&nbsp;&nbsp;&nbsp;&nbsp;&nbsp;&nbsp;&nbsp;than or equal to $\\operatorname{MinPts}$ data points. A priority queue is used to store its &nbsp;&nbsp;&nbsp;&nbsp;&nbsp;&nbsp;&nbsp;&nbsp;&nbsp; $q$ according to the &nbsp;&nbsp;&nbsp;&nbsp;&nbsp;&nbsp;&nbsp;&nbsp;&nbsp;, which is &nbsp;&nbsp;&nbsp;&nbsp;&nbsp;&nbsp;&nbsp;&nbsp;&nbsp; between the &nbsp;&nbsp;&nbsp;&nbsp;&nbsp;&nbsp;&nbsp;&nbsp;&nbsp; of $p$ and the &nbsp;&nbsp;&nbsp;&nbsp;&nbsp;&nbsp;&nbsp;&nbsp;&nbsp; from $p$ and $q$.\n",
    "\n",
    ":::{list-table} Choices:\n",
    ":widths: auto\n",
    "* - density-based\n",
    "  - centroid-based\n",
    "  - agglomerative\n",
    "* - the same\n",
    "  - different\n",
    "  - smaller\n",
    "  - the minimum\n",
    "  - larger\n",
    "  - the maximum\n",
    "* - core point\n",
    "  - directly density-reachable point\n",
    "  - border point\n",
    "* - core distance\n",
    "  - reachability distance\n",
    "  - actual distance\n",
    ":::"
   ]
  },
  {
   "cell_type": "markdown",
   "id": "75f6d173-f1a5-47b9-b106-bfb36c9c2d79",
   "metadata": {},
   "source": [
    "## BUC"
   ]
  },
  {
   "attachments": {
    "ffad0654-b7be-4063-bfe3-07cf0df452c0.png": {
     "image/png": "[encoded data removed]"
    }
   },
   "cell_type": "markdown",
   "id": "72a07b1e-0626-4909-80f0-9aca08a36b32",
   "metadata": {},
   "source": [
    "Give the BUC algorithm by **reordering** the following steps.\n",
    ":::{note}\n",
    "To properly test your understanding, bodies of any loops/conditionals are not indented. You are also **not** required to mark the beginnings/endings of loops/conditionals.\n",
    ":::\n",
    "\n",
    "**Input**:\n",
    "* input data `input` corresponding to a cell,\n",
    "* starting dimension `dim` for the search, and\n",
    "* the minimum support `min_sup` for the iceberg condition.\n",
    "\n",
    "**Output**: All cells in the iceberg cube along dimensions starting from `dim`.\n",
    "\n",
    "**Procedure**: BUC(`input`,`dim`,`min_sup`)\n",
    "![image.png](attachment:ffad0654-b7be-4063-bfe3-07cf0df452c0.png)\n"
   ]
  },
  {
   "cell_type": "markdown",
   "id": "3dad220d-ca50-4ca1-aa48-c40b9e9be7fa",
   "metadata": {},
   "source": []
  }
 ],
 "metadata": {
  "kernelspec": {
   "display_name": "Python 3 (ipykernel)",
   "language": "python",
   "name": "python3"
  },
  "language_info": {
   "codemirror_mode": {
    "name": "ipython",
    "version": 3
   },
   "file_extension": ".py",
   "mimetype": "text/x-python",
   "name": "python",
   "nbconvert_exporter": "python",
   "pygments_lexer": "ipython3",
   "version": "3.11.6"
  }
 },
 "nbformat": 4,
 "nbformat_minor": 5
}
