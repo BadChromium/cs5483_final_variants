{
 "cells": [
  {
   "cell_type": "markdown",
   "id": "235c5c84-bb3e-4cc4-ab5f-489e3d553b03",
   "metadata": {},
   "source": [
    "# FINAL EXAMINATION"
   ]
  },
  {
   "cell_type": "markdown",
   "id": "b1e1c993-e522-4f70-b319-74fd346db3d6",
   "metadata": {},
   "source": [
    "## Instruction"
   ]
  },
  {
   "cell_type": "markdown",
   "id": "d7bcf8f7-91b2-4769-af31-dfcb2c21c926",
   "metadata": {},
   "source": [
    "<div class=\"question\">\n",
    "\n",
    "<p class=\"questiontext\"><h3>CITY UNIVERSITY OF HONG KONG</h3>\n",
    "\n",
    "<hr>\n",
    "\n",
    "<table>\n",
    "<tr>\n",
    "<td>Course code & title</td><td>: CS5483 Data Warehousing and Data Mining</td>\n",
    "</tr>\n",
    "<tr>\n",
    "<td>Session</td><td>: Semester B 2022/23</td>\n",
    "</tr>\n",
    "<tr>\n",
    "<td>Time allowed</td><td>: Two hours</td>\n",
    "</tr>\n",
    "</table>\n",
    "\n",
    "<hr>\n",
    "\n",
    "<ul>\n",
    "<li>This is a <strong>computerized examination</strong> that requires <strong>internet access</strong>. </li>\n",
    "<li>There are <strong>NO printings</strong> of question papers or answer books.</li>\n",
    "</ul>\n",
    "\n",
    "<hr>\n",
    "\n",
    "<ul>\n",
    "<li>Answer <u>ALL</u> questions via the <u>Safe Exam Browser on your designated Lab PC</u>.</li>\n",
    "<li>For numerical answers that are not integer, they must be accurate at least up to <u>3 significant figures</u>. Equivalent <u>algebraic forms</u> without simplification are acceptable.</li>\n",
    "</ul>\n",
    "\n",
    "<hr>\n",
    "\n",
    "<p>This is a <strong>closed-book</strong> examination.</p>\n",
    "\n",
    "\n",
    "  <tr>\n",
    "    <td style=\"padding: 5px;\">\n",
    "Students are allowed to use the following materials/aids:\n",
    "        <ul>\n",
    "    <li>blank scratch papers;</li>\n",
    "<li>university approved calculators; and</li>\n",
    "<li>online python tutor: <a href=\"https://dive4dec.github.io/optlite/live.html\"target=\"_blank\">https://dive4dec.github.io/optlite/live.html</a></li>\n",
    "</ul>\n",
    "Materials/aids other than those stated above are not permitted. Students will be subject to disciplinary action if any unauthorized materials or aids are found on them.\n",
    "</td>\n",
    "  </tr>\n",
    "</p>\n",
    "</div>"
   ]
  },
  {
   "cell_type": "markdown",
   "id": "32454eae-99f4-40b8-b131-d9a8c0e42adc",
   "metadata": {},
   "source": [
    "## Different classification algorithms"
   ]
  },
  {
   "cell_type": "markdown",
   "id": "852c4e91-1984-4b04-81d6-b29f89052773",
   "metadata": {},
   "source": [
    "Choose the classification algorithm associated with the description.\n",
    "\n",
    "![image.png](img/2/class_alg.png)"
   ]
  },
  {
   "cell_type": "markdown",
   "id": "79b31df4-d77b-45fa-9899-dbd709ba6712",
   "metadata": {},
   "source": [
    "## Ensemble methods"
   ]
  },
  {
   "cell_type": "markdown",
   "id": "41062221-0a57-4761-8019-3c4d96ff8bd3",
   "metadata": {},
   "source": [
    "Indicates whether the following statements about ensemble methods are correct:\n",
    "\n",
    "![image.png](img/2/ensemble.png)"
   ]
  },
  {
   "cell_type": "markdown",
   "id": "2a21691f-4e22-4ff8-bf87-abf33dc8ecab",
   "metadata": {},
   "source": [
    "## DBSCAN algorithm"
   ]
  },
  {
   "cell_type": "markdown",
   "id": "e1708e83-9b95-40dd-871f-6d6040132cc2",
   "metadata": {},
   "source": [
    "Give the DBSCAN algorithm by **reordering** the following steps.\n",
    "\n",
    ":::{note}\n",
    "To properly test your understanding, bodies of any loops/conditionals are not indented. You are also **not** required to mark the beginnings/endings of loops/conditionals.\n",
    ":::\n",
    "\n",
    "**Input**: Dataset $D:=\\{\\boldsymbol{p}_i\\}_{i=1}^n$ and parameters $(\\epsilon, \\operatorname{MinPts})$ for density-connectedness.\n",
    "\n",
    "**Output**: A partition of $D$ into clusters $C_1,\\dots,C_k$ and a set $N$ of noise points.\n",
    "\n",
    "![image.png](img/2/dbscan.png)"
   ]
  },
  {
   "cell_type": "markdown",
   "id": "4523a503-8535-4236-bccf-892c47598ca0",
   "metadata": {},
   "source": [
    "## Optics"
   ]
  },
  {
   "attachments": {},
   "cell_type": "markdown",
   "id": "ac0dc4f3-6fe9-4915-be6c-d74cdb2c1c4a",
   "metadata": {},
   "source": [
    "Drag the appropriate terms to the blanks.\n",
    ":::{note}\n",
    "Each term may be dragged to multiple blanks, and some terms may not be needed.\n",
    ":::\n",
    "\n",
    "![image.png](img/2/optics.png)\n",
    "\n",
    ":::{list-table} Choices:\n",
    ":widths: auto\n",
    "* - density-based\n",
    "  - centroid-based\n",
    "  - agglomerative\n",
    "* - the same\n",
    "  - different\n",
    "  - smaller\n",
    "  - the minimum\n",
    "  - larger\n",
    "  - the maximum\n",
    "* - core point\n",
    "  - directly density-reachable point\n",
    "  - border point\n",
    "* - core distance\n",
    "  - reachability distance\n",
    "  - actual distance\n",
    ":::"
   ]
  },
  {
   "cell_type": "markdown",
   "id": "75f6d173-f1a5-47b9-b106-bfb36c9c2d79",
   "metadata": {},
   "source": [
    "## BUC"
   ]
  },
  {
   "attachments": {},
   "cell_type": "markdown",
   "id": "72a07b1e-0626-4909-80f0-9aca08a36b32",
   "metadata": {},
   "source": [
    "Give the BUC algorithm by **reordering** the following steps.\n",
    ":::{note}\n",
    "To properly test your understanding, bodies of any loops/conditionals are not indented. You are also **not** required to mark the beginnings/endings of loops/conditionals.\n",
    ":::\n",
    "\n",
    "**Input**:\n",
    "* input data `input` corresponding to a cell,\n",
    "* starting dimension `dim` for the search, and\n",
    "* the minimum support `min_sup` for the iceberg condition.\n",
    "\n",
    "**Output**: All cells in the iceberg cube along dimensions starting from `dim`.\n",
    "\n",
    "**Procedure**: BUC(`input`,`dim`,`min_sup`)\n",
    "![image.png](img/2/buc.png)\n"
   ]
  },
  {
   "cell_type": "markdown",
   "id": "3dad220d-ca50-4ca1-aa48-c40b9e9be7fa",
   "metadata": {},
   "source": [
    "## Failure"
   ]
  },
  {
   "attachments": {},
   "cell_type": "markdown",
   "id": "d833d98d-fb8f-47df-98e6-d842892a2d5e",
   "metadata": {},
   "source": [
    "Select the issue associated with the description. Choose \"none\" if none of the other options apply.\n",
    "\n",
    "![image.png](img/2/failure.png)"
   ]
  },
  {
   "cell_type": "markdown",
   "id": "e93bb5b4-b2d2-441a-a596-c5efa805cad0",
   "metadata": {},
   "source": [
    "## Aggregate functions and frequent itemsets"
   ]
  },
  {
   "attachments": {},
   "cell_type": "markdown",
   "id": "76165b90-b140-486d-a627-c672520fd731",
   "metadata": {},
   "source": [
    "Categorize the different facts below and choose \"none\" if none of the other descriptions apply.\n",
    "\n",
    "![image.png](img/2/aggregate_func.png)"
   ]
  },
  {
   "cell_type": "markdown",
   "id": "4b6be085-7b7f-46f7-adf3-22043d2d14d7",
   "metadata": {},
   "source": [
    "## FOIL and Info Gain"
   ]
  },
  {
   "attachments": {},
   "cell_type": "markdown",
   "id": "29e862d6-a2b1-43c7-9572-7dfcc7438537",
   "metadata": {},
   "source": [
    "Consider the data $D$  containing information about customers of a subscription-based online platform\n",
    "\n",
    "* $i$: A unique index for each customer.\n",
    "* $RP$: Recent_promotion_used: A binary attribute with values $\\{0,1\\}$, representing whether the customer has used a recent promotion offered by the platform $(1)$ or not $(0)$.\n",
    "* $FH$: Frequent_help_requests: A binary attribute with values $\\{0,1\\}$, representing whether the customer frequently requests help or customer support $(1)$ or not $(0)$.\n",
    "* $C$: The class attribute in $\\{0,1\\}$ indicating whether the customer is likely to churn.\n",
    "\n",
    "Using the hold-out method, the training set is chosen in the following way:\n",
    "![image.png](img/2/foil_info_gain0.png)\n",
    "\n",
    "and use $D_{test}$ for testing.\n",
    ":::{note}\n",
    "* You may enter log base $2$ as `log2`. E.g., `log2(x)` will evaluate to `log(x)/log(2)`, where `log` is the natural logarithm.\n",
    "* You may use the function $h$ to compute the entropy (in bits) by providing the probability masses as arguments, e.g., `h(1/4,1/2,1/2)` evaluates to 1.5 bits.\n",
    ":::\n",
    "Give the corresponding set of index $i$ for the remaining data $D_{test}$ for testing.\n",
    ":::{note}\n",
    "Enter an unordered set as comma separated values enclosed with braces. E.g., the set of indices `1,2,3` is entered as `{1,2,3}`.\n",
    ":::\n",
    "\n",
    "![image.png](img/2/foil_info_gain1.png)\n",
    "\n",
    "Calculate the information quantities listed below.\n",
    "\n",
    "![image.png](img/2/foil_info_gain2.png)\n",
    "\n",
    "Based on the Gain Ratio of **RP** and **FH**, which one of the two features should be chosen?\n",
    "\n",
    "![image.png](img/2/foil_info_gain3.png)\n",
    "\n",
    "Considering the training set $D_{train}$, calculate the FOIL Gains respectively for adding each of the following conjuncts to the rule $C = 1$.\n",
    "\n",
    "![image.png](img/2/foil_info_gain4.png)\n",
    "\n",
    "Based on the FOIL Gains of **RP** and **FH**, which one of the two features should be chosen?\n",
    "\n",
    "![image.png](img/2/foil_info_gain3.png)"
   ]
  },
  {
   "cell_type": "markdown",
   "id": "fe6f28df-74b0-4503-8dcc-40777dd34ff5",
   "metadata": {},
   "source": [
    "## Single linkage and k-means"
   ]
  },
  {
   "attachments": {},
   "cell_type": "markdown",
   "id": "8207503e-b622-4a15-b348-3a2ddbcd0f92",
   "metadata": {},
   "source": [
    "Consider clustering flowers based on their petal length and sepal length:\n",
    "\n",
    "![image.png](img/2/k-means0.png)\n",
    "\n",
    "Complete the following table by applying the **single-linkage method** using the Euclidean distance **without normalization**.\n",
    ":::{note}\n",
    "* Initially, cluster index $i$ for $i \\in \\{1,...,5\\}$ is assigned to the singleton cluster containing the $i$-th instance. Larger cluster indices are assigned to **newer cluster merged** by the algorithm.\n",
    "* Enter the set of two clusters to merge as a comma separated pair of cluster indices **(NOT instance indices)** enclosed using braces. E.g., enter $\\{1,6\\}$ (or $\\{6,1\\}$) to mean merging the singleton cluster indexed by $1$ and the new cluster indexed by $6$.\n",
    ":::\n",
    "\n",
    "![image.png](img/2/k-means1.png)\n",
    "\n",
    "Complete the following table by applying **$k$-means clustering** with $k = 2$ using the Euclidean distance **without normalization**.\n",
    ":::{note}\n",
    "* To give a cluster, enter a comma separated list of instance indices **(NOT cluster indices)** enclosed by braces. E.g., $\\{1,2\\}$ means a cluster of instances $1$ and $2$. The clusters for each step should be computed for the cluster centers of the previous step. The randomly chosen initial cluster centers are given in Step 0.\n",
    "* To give a cluster center, enter the values of petal length followed by sepal length separately. The cluster centers for each step should be computed from the clusters of the current step.\n",
    ":::\n",
    "\n",
    "![image.png](img/2/k-means2.png)"
   ]
  },
  {
   "cell_type": "markdown",
   "id": "9c18687e-56ad-4680-a409-82123d86b10c",
   "metadata": {},
   "source": [
    "## Apriori algorithm and association rules"
   ]
  },
  {
   "attachments": {},
   "cell_type": "markdown",
   "id": "50978a00-d177-46a9-8736-679cd83145f8",
   "metadata": {},
   "source": [
    "Consider the following transactional data where each transaction is an itemset consisting of different brands of camera lenses purchased:\n",
    "\n",
    "![image.png](img/2/apriori0.png)\n",
    "\n",
    "The **ordered list of all brands** is \\[Canon, Fujifilm, Leica, Nikon, Sony\\].\n",
    "\n",
    "Complete the following table using the Apriori algorithm to identify all the frequent itemsets with a **support count of at least 2**. Give one candidate itemset in each row **in the order generated** by the Apriori algorithm according to the **ascending lexicographical order** of the item labels. Note that pruned itemsets should **NOT** enter the candidate list as they need not be counted.\n",
    "\n",
    "![image.png](img/2/apriori1.png)\n",
    "\n",
    "Give the pruned itemsets in each row **in the order pruned** by the Apriori algorithm according to the **ascending lexicographical order** of the item labels.\n",
    "\n",
    "![image.png](img/2/apriori2.png)\n",
    "\n",
    "Complete the following using the support-confidence framework to identify association rules **with support at least 0.4 and confidence at least 0.5**. List the rules in **descending lexicographical order of (support, confidence, lift)**, e.g., (0.5,0.6,1) should be before (0.4,0.6,2), which should be before (0.4,0.6,1).\n",
    "\n",
    "![image.png](img/2/apriori3.png)"
   ]
  }
 ],
 "metadata": {
  "kernelspec": {
   "display_name": "Python 3 (ipykernel)",
   "language": "python",
   "name": "python3"
  },
  "language_info": {
   "codemirror_mode": {
    "name": "ipython",
    "version": 3
   },
   "file_extension": ".py",
   "mimetype": "text/x-python",
   "name": "python",
   "nbconvert_exporter": "python",
   "pygments_lexer": "ipython3",
   "version": "3.11.6"
  }
 },
 "nbformat": 4,
 "nbformat_minor": 5
}