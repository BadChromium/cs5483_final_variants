{
 "cells": [
  {
   "cell_type": "markdown",
   "metadata": {},
   "source": [
    "# Examples of Programming Variants based Questions"
   ]
  },
  {
   "cell_type": "markdown",
   "metadata": {},
   "source": [
    "## Multiple choice questions"
   ]
  },
  {
   "cell_type": "markdown",
   "metadata": {
    "editable": true,
    "slideshow": {
     "slide_type": ""
    },
    "tags": []
   },
   "source": []
  },
  {
   "cell_type": "markdown",
   "metadata": {
    "editable": true,
    "slideshow": {
     "slide_type": ""
    },
    "tags": []
   },
   "source": [
    "::::{note} Different classification algorithms\n",
    ":::{list-table} Choose the classification algorithm associated with the description.\n",
    ":widths: auto\n",
    ":header-rows: 1\n",
    "\n",
    "* - Classification\n",
    "  - Description\n",
    "* - ```process[0]```\n",
    "  - ```cases[process[0]]```\n",
    "* - ```process[1]```\n",
    "  - ```cases[process[1]]```\n",
    ":::\n",
    ":::{hint} Variants information: \n",
    "* Descriptions are generated via a bunch of cases with the variable ```cases``` list. \n",
    "* Classification algorithms are in a short list ```process: [\"kNN\", \"C4.5\", \"CART\", \"ZeroR\", \"PART\", \"RIPPER\"]```.\n",
    "\n",
    "Number of variants depends on the permutations of the elements of ```cases```. If the choices are more than 5 and the size of each elements of  ```cases``` larger than 3, there will be at least $3^6$ variants, which is enough to cover a class size.\n",
    ":::\n",
    "::::"
   ]
  },
  {
   "cell_type": "markdown",
   "metadata": {},
   "source": [
    ":::{seealso} Variant example\n",
    ":class: dropdown\n",
    "The question is from the variant with ID $334905383$.\n",
    "![variant](img/example_variant.png)\n",
    ":::"
   ]
  },
  {
   "cell_type": "markdown",
   "metadata": {},
   "source": [
    "## Blank-filling Questions with Variants Embedded \n"
   ]
  },
  {
   "cell_type": "markdown",
   "metadata": {
    "editable": true,
    "slideshow": {
     "slide_type": ""
    },
    "tags": []
   },
   "source": [
    "::::{note} Apriori and Association Rule\n",
    ":::{list-table} Consider the following transactional data where each transaction is an itemset consisting of different brands of camera lenses puerchase:\n",
    ":widths: auto\n",
    ":header-rows: 1\n",
    "* - Transaction ID\n",
    "  - Set of brands of purchased lenses\n",
    "* - $T_1$\n",
    "  - ```D_tex[0]```\n",
    "* - $T_2$\n",
    "  - ```D_tex[1]```\n",
    "* - $T_3$\n",
    "  - ```D_tex[2]```\n",
    ":::\n",
    "The question is built from a fixed data ```data_default``` followed by the variants ```data``` generated with criteria. All the following questions are programmably generated with Maxima functions, e.g. the pruned itemsets ```AP_1``` and ```AP_2``` are from the function ```apriori_join, apriori_prune``` operating on the ```data```.\n",
    ":::{list-table} Give the pruned itemsets in each row in the order pruned by the Apriori algorithm according to the ascending lexicographical order of the item labels.\n",
    ":widths: auto\n",
    "* - First pruned itemset:\n",
    "  - ```AP_1```\n",
    "* - Second pruned itemset:\n",
    "  - ```AP_2```\n",
    " \n",
    ":::\n",
    ":::{hint} Variants information:\n",
    "* The table, i.e. the variable ```D_tex```, is generated based on the variants ```data```, which plays the independent role in the whole question.\n",
    "* All the answers are programmably calculated by the functions defined based on Apriori algorithm.\n",
    ":::\n",
    ":::{attention} Criteria:\n",
    ":class: dropdown\n",
    "* Build ```data``` from  ```data_default``` to avoid zero frequent itemsets.\n",
    "* Filter the ```data``` with trivial results from association rules, e.g. support / confidence / lift is 0.\n",
    ":::\r\n",
    "\r\n",
    "\n",
    "::::"
   ]
  },
  {
   "cell_type": "markdown",
   "metadata": {},
   "source": [
    ":::{seealso} Variant example\n",
    ":class: dropdown\n",
    "The question is from the variant with ID $720119675$.\n",
    "![variant1](img/example_variant1.png)\n",
    ":::"
   ]
  },
  {
   "cell_type": "code",
   "execution_count": null,
   "metadata": {},
   "outputs": [],
   "source": []
  }
 ],
 "metadata": {
  "kernelspec": {
   "display_name": "Python 3 (ipykernel)",
   "language": "python",
   "name": "python3"
  },
  "language_info": {
   "codemirror_mode": {
    "name": "ipython",
    "version": 3
   },
   "file_extension": ".py",
   "mimetype": "text/x-python",
   "name": "python",
   "nbconvert_exporter": "python",
   "pygments_lexer": "ipython3",
   "version": "3.11.6"
  }
 },
 "nbformat": 4,
 "nbformat_minor": 4
}
