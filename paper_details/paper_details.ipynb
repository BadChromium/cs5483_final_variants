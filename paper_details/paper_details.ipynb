{
 "cells": [
  {
   "cell_type": "markdown",
   "metadata": {},
   "source": [
    "# Examples of Programming Variants based Questions"
   ]
  },
  {
   "cell_type": "markdown",
   "metadata": {},
   "source": [
    "## Multiple choice questions"
   ]
  },
  {
   "cell_type": "markdown",
   "metadata": {},
   "source": [
    "<p>Choose the classification algorithm associated with the description.</p>\n",
    "\n",
    "<div class=\"sol\">\n",
    "    <table class=\"dt\">\n",
    "        <thead>\n",
    "            <tr>\n",
    "                <th class=\"dt-box\">Classification</th>\n",
    "                <th class=\"dt-box\">Description</th>\n",
    "            </tr>\n",
    "        </thead>\n",
    "        <tbody>\n",
    "            <tr>\n",
    "                <td class=\"dt-tr\">\n",
    "                    [[input:ans1]] [[validation:ans1]]\n",
    "                </td>\n",
    "                <td class=\"dt-tr\">{@s[1]@}</td>\n",
    "            </tr>\n",
    "            <tr>\n",
    "                <td class=\"dt-br\" colspan=\"2\">\n",
    "                    [[feedback:prt1]]\n",
    "                </td>\n",
    "            </tr>\n",
    "            <tr>\n",
    "                <td class=\"dt-tr\">\n",
    "                    [[input:ans2]] [[validation:ans2]]\n",
    "                </td>\n",
    "                <td class=\"dt-tr\">{@s[2]@}</td>\n",
    "            </tr>\n",
    "            <tr>\n",
    "                <td class=\"dt-br\" colspan=\"2\">\n",
    "                    [[feedback:prt2]]\n",
    "                </td>\n",
    "            </tr>\n",
    "            <tr>\n",
    "                <td class=\"dt-tr\">\n",
    "                    [[input:ans3]] [[validation:ans3]]\n",
    "                </td>\n",
    "                <td class=\"dt-tr\">{@s[3]@}</td>\n",
    "            </tr>\n",
    "            <tr>\n",
    "                <td class=\"dt-br\" colspan=\"2\">\n",
    "                    [[feedback:prt3]]\n",
    "                </td>\n",
    "            </tr>\n",
    "            <tr>\n",
    "                <td class=\"dt-tr\">\n",
    "                    [[input:ans4]] [[validation:ans4]]\n",
    "                </td>\n",
    "                <td class=\"dt-tr\">{@s[4]@}</td>\n",
    "            </tr>\n",
    "            <tr>\n",
    "                <td class=\"dt-br\" colspan=\"2\">\n",
    "                    [[feedback:prt4]]\n",
    "                </td>\n",
    "            </tr>\n",
    "            <tr>\n",
    "                <td class=\"dt-tr\">\n",
    "                    [[input:ans5]] [[validation:ans5]]\n",
    "                </td>\n",
    "                <td class=\"dt-tr\">{@s[5]@}</td>\n",
    "            </tr>\n",
    "            <tr>\n",
    "                <td class=\"dt-br\" colspan=\"2\">\n",
    "                    [[feedback:prt5]]\n",
    "                </td>\n",
    "            </tr>\n",
    "            <tr>\n",
    "                <td class=\"dt-tr\">\n",
    "                    [[input:ans6]] [[validation:ans6]]\n",
    "                </td>\n",
    "                <td class=\"dt-tr\">{@s[6]@}</td>\n",
    "            </tr>\n",
    "            <tr>\n",
    "                <td class=\"dt-br\" colspan=\"2\">\n",
    "                    [[feedback:prt6]]\n",
    "                </td>\n",
    "            </tr>\n",
    "        </tbody>\n",
    "    </table>\n",
    "</div>"
   ]
  },
  {
   "cell_type": "markdown",
   "metadata": {},
   "source": []
  }
 ],
 "metadata": {
  "kernelspec": {
   "display_name": "base",
   "language": "python",
   "name": "python3"
  },
  "language_info": {
   "name": "python",
   "version": "3.11.4"
  }
 },
 "nbformat": 4,
 "nbformat_minor": 2
}
